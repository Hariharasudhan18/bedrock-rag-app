{
 "cells": [
  {
   "cell_type": "markdown",
   "id": "587ebbf5",
   "metadata": {},
   "source": [
    "## 1. Install Necessary Libraries"
   ]
  },
  {
   "cell_type": "code",
   "execution_count": null,
   "id": "22409f37",
   "metadata": {},
   "outputs": [],
   "source": [
    "!pip install boto3 PyMuPDF requests faiss-cpu opensearch-py numpy anthropic"
   ]
  },
  {
   "cell_type": "markdown",
   "id": "03fc1097",
   "metadata": {},
   "source": [
    "## 2. Setup AWS Bedrock, OpenSearch, and Other APIs"
   ]
  },
  {
   "cell_type": "code",
   "execution_count": null,
   "id": "76b9683d",
   "metadata": {},
   "outputs": [],
   "source": [
    "import boto3\n",
    "import requests\n",
    "import fitz  # PyMuPDF\n",
    "import numpy as np\n",
    "from opensearchpy import OpenSearch, helpers\n",
    "from anthropic import Client as AnthropicClient\n",
    "\n",
    "# Hardcoded AWS Credentials (replace with your credentials)\n",
    "aws_access_key = 'YOUR_AWS_ACCESS_KEY'\n",
    "aws_secret_key = 'YOUR_AWS_SECRET_KEY'\n",
    "\n",
    "# Initialize Boto3 Client for Bedrock (For Amazon Titan embeddings)\n",
    "bedrock = boto3.client(\n",
    "    'bedrock',\n",
    "    aws_access_key_id=aws_access_key,\n",
    "    aws_secret_access_key=aws_secret_key,\n",
    "    region_name='us-east-1'  # Adjust region if needed\n",
    ")\n",
    "\n",
    "# Initialize OpenSearch Client\n",
    "opensearch = OpenSearch(\n",
    "    hosts=[{'host': 'your-opensearch-endpoint', 'port': 443}],\n",
    "    http_auth=(aws_access_key, aws_secret_key),\n",
    "    use_ssl=True,\n",
    "    verify_certs=True\n",
    ")\n",
    "\n",
    "# Initialize Anthropic Client\n",
    "anthropic_client = AnthropicClient(api_key=\"YOUR_ANTHROPIC_API_KEY\")\n"
   ]
  },
  {
   "cell_type": "markdown",
   "id": "73315aeb",
   "metadata": {},
   "source": [
    "## 3. Extract Text, Images, and Hyperlinks from PDF"
   ]
  },
  {
   "cell_type": "code",
   "execution_count": null,
   "id": "ae9dc779",
   "metadata": {},
   "outputs": [],
   "source": [
    "def extract_text_and_links_from_pdf(pdf_path):\n",
    "    document = fitz.open(pdf_path)\n",
    "    text = \"\"\n",
    "    links = []\n",
    "    images = []\n",
    "\n",
    "    for page_num in range(document.page_count):\n",
    "        page = document.load_page(page_num)\n",
    "        text += page.get_text(\"text\")\n",
    "        links += page.get_links()\n",
    "        \n",
    "        # Extract images\n",
    "        image_list = page.get_images(full=True)\n",
    "        for img_index, img in enumerate(image_list):\n",
    "            xref = img[0]\n",
    "            base_image = document.extract_image(xref)\n",
    "            images.append(base_image['image'])\n",
    "    \n",
    "    return text, links, images\n"
   ]
  },
  {
   "cell_type": "markdown",
   "id": "7380756d",
   "metadata": {},
   "source": [
    "## 4. Process Hyperlinks and Fetch Content"
   ]
  },
  {
   "cell_type": "code",
   "execution_count": null,
   "id": "0329e119",
   "metadata": {},
   "outputs": [],
   "source": [
    "from bs4 import BeautifulSoup\n",
    "\n",
    "def fetch_content_from_link(link):\n",
    "    try:\n",
    "        response = requests.get(link)\n",
    "        if response.status_code == 200:\n",
    "            soup = BeautifulSoup(response.text, 'html.parser')\n",
    "            return soup.get_text()\n",
    "        return None\n",
    "    except Exception as e:\n",
    "        print(f\"Error fetching link {link}: {e}\")\n",
    "        return None\n"
   ]
  },
  {
   "cell_type": "markdown",
   "id": "28c8aa3c",
   "metadata": {},
   "source": [
    "## 5. Use Recursive Character Splitter for Text Segmentation"
   ]
  },
  {
   "cell_type": "code",
   "execution_count": null,
   "id": "30e97b74",
   "metadata": {},
   "outputs": [],
   "source": [
    "def recursive_split(text, chunk_size=1000, overlap=200):\n",
    "    chunks = []\n",
    "    start = 0\n",
    "    while start < len(text):\n",
    "        end = min(start + chunk_size, len(text))\n",
    "        chunks.append(text[start:end])\n",
    "        start = end - overlap\n",
    "    return chunks\n"
   ]
  },
  {
   "cell_type": "markdown",
   "id": "3c5d134a",
   "metadata": {},
   "source": [
    "## 6. Index Text into OpenSearch Vector Database"
   ]
  },
  {
   "cell_type": "code",
   "execution_count": null,
   "id": "972bab6c",
   "metadata": {},
   "outputs": [],
   "source": [
    "def index_text_to_opensearch(chunks, embedding_model, opensearch_client, index_name=\"documents\"):\n",
    "    # Ensure index exists\n",
    "    if not opensearch_client.indices.exists(index=index_name):\n",
    "        opensearch_client.indices.create(index=index_name, body={\"settings\": {\"index\": {\"number_of_shards\": 1}}})\n",
    "    \n",
    "    for chunk in chunks:\n",
    "        embedding = get_embedding(chunk, embedding_model)\n",
    "        doc = {\n",
    "            \"text\": chunk,\n",
    "            \"embedding\": embedding\n",
    "        }\n",
    "        opensearch_client.index(index=index_name, body=doc)\n",
    "\n",
    "def get_embedding(text, embedding_model):\n",
    "    # Use Amazon Titan or a similar embedding model from Bedrock API\n",
    "    response = bedrock.invoke_model(model_id=\"amazon.titan\", input={\"text\": text})\n",
    "    return response[\"embedding\"]\n"
   ]
  },
  {
   "cell_type": "markdown",
   "id": "11352c84",
   "metadata": {},
   "source": [
    "## 7. Retrieve Relevant Chunks from OpenSearch"
   ]
  },
  {
   "cell_type": "code",
   "execution_count": null,
   "id": "92fabce5",
   "metadata": {},
   "outputs": [],
   "source": [
    "def retrieve_relevant_chunks(query, opensearch_client, embedding_model, index_name=\"documents\"):\n",
    "    query_embedding = get_embedding(query, embedding_model)\n",
    "    \n",
    "    search_body = {\n",
    "        \"query\": {\n",
    "            \"knn\": {\n",
    "                \"embedding\": {\n",
    "                    \"vector\": query_embedding,\n",
    "                    \"k\": 5  # Retrieve top 5 matches\n",
    "                }\n",
    "            }\n",
    "        }\n",
    "    }\n",
    "\n",
    "    response = opensearch_client.search(index=index_name, body=search_body)\n",
    "    return [hit[\"_source\"][\"text\"] for hit in response[\"hits\"][\"hits\"]]\n"
   ]
  },
  {
   "cell_type": "markdown",
   "id": "6f62270d",
   "metadata": {},
   "source": [
    "## 8. ReAct Agent Logic (Reason and Act)"
   ]
  },
  {
   "cell_type": "code",
   "execution_count": null,
   "id": "fc8c7e8b",
   "metadata": {},
   "outputs": [],
   "source": [
    "def generate_response(query, relevant_chunks, anthropic_client, chat_history):\n",
    "    context = \"\\n\".join(relevant_chunks)\n",
    "    prompt = f\"Given the following context: {context}\\nAnswer the following question: {query}\"\n",
    "    \n",
    "    # Include chat history\n",
    "    full_prompt = \"\\n\".join(chat_history + [prompt])\n",
    "\n",
    "    response = anthropic_client.completion(\n",
    "        model=\"claude-v1\",  # Select appropriate Claude model\n",
    "        prompt=full_prompt,\n",
    "        max_tokens=300\n",
    "    )\n",
    "    \n",
    "    # Add the response to the chat history\n",
    "    chat_history.append(f\"User: {query}\")\n",
    "    chat_history.append(f\"Claude: {response['completion']}\")\n",
    "    \n",
    "    return response[\"completion\"]\n"
   ]
  },
  {
   "cell_type": "markdown",
   "id": "352066cf",
   "metadata": {},
   "source": [
    "## 9. Memory Buffer for Chat History"
   ]
  },
  {
   "cell_type": "code",
   "execution_count": null,
   "id": "705d4b82",
   "metadata": {},
   "outputs": [],
   "source": [
    "chat_history = []\n",
    "\n",
    "def add_to_chat_history(query, response):\n",
    "    chat_history.append({\"query\": query, \"response\": response})\n"
   ]
  },
  {
   "cell_type": "markdown",
   "id": "509267ab",
   "metadata": {},
   "source": [
    "## 10. Evaluation Framework (Grounding and Hallucination Detection)"
   ]
  },
  {
   "cell_type": "code",
   "execution_count": null,
   "id": "d2e23d79",
   "metadata": {},
   "outputs": [],
   "source": [
    "from sklearn.metrics.pairwise import cosine_similarity\n",
    "\n",
    "def evaluate_grounding(response, relevant_chunks, embedding_model):\n",
    "    response_embedding = get_embedding(response, embedding_model)\n",
    "    chunk_embeddings = [get_embedding(chunk, embedding_model) for chunk in relevant_chunks]\n",
    "    \n",
    "    similarities = [cosine_similarity([response_embedding], [chunk_embedding])[0][0] for chunk_embedding in chunk_embeddings]\n",
    "    return np.mean(similarities)\n",
    "\n",
    "def check_hallucination(response, relevant_chunks):\n",
    "    for chunk in relevant_chunks:\n",
    "        if response in chunk:\n",
    "            return False\n",
    "    return True\n",
    "\n",
    "def final_check(response, relevant_chunks, embedding_model):\n",
    "    grounding_score = evaluate_grounding(response, relevant_chunks, embedding_model)\n",
    "    hallucination_detected = check_hallucination(response, relevant_chunks)\n",
    "    \n",
    "    if hallucination_detected or grounding_score < 0.5:\n",
    "        return \"Hmm, I don't know\"\n",
    "    return response\n"
   ]
  },
  {
   "cell_type": "markdown",
   "id": "2eb9e097",
   "metadata": {},
   "source": [
    "## 11. Main Application Logic"
   ]
  },
  {
   "cell_type": "code",
   "execution_count": null,
   "id": "23e29102",
   "metadata": {},
   "outputs": [],
   "source": [
    "def main(pdf_path, query):\n",
    "    # Step 1: Extract text, images, and hyperlinks from the PDF\n",
    "    text, links, images = extract_text_and_links_from_pdf(pdf_path)\n",
    "    \n",
    "    # Step 2: Split text using recursive splitter\n",
    "    text_chunks = recursive_split(text)\n",
    "    \n",
    "    # Step 3: Fetch content from hyperlinks and add to chunks\n",
    "    for link in links:\n",
    "        if 'uri' in link:\n",
    "            content = fetch_content_from_link(link['uri'])\n",
    "            if content:\n",
    "                link_chunks = recursive_split(content)\n",
    "                text_chunks.extend(link_chunks)\n",
    "    \n",
    "    # Step 4: Index chunks into OpenSearch\n",
    "    index_text_to_opensearch(text_chunks, get_embedding, opensearch, index_name=\"documents\")\n",
    "    \n",
    "    # Step 5: Retrieve relevant chunks\n",
    "    relevant_chunks = retrieve_relevant_chunks(query, opensearch, get_embedding, index_name=\"documents\")\n",
    "    \n",
    "    # Step 6: Generate response using ReAct agent and Anthropic\n",
    "    response = generate_response(query, relevant_chunks, anthropic_client, chat_history)\n",
    "    \n",
    "    # Step 7: Evaluate and detect hallucination\n",
    "    final_response = final_check(response, relevant_chunks, get_embedding)\n",
    "    \n",
    "    # Step 8: Display response\n",
    "    print(final_response)\n",
    "\n",
    "# Execute\n",
    "if __name__ == \"__main__\":\n",
    "    pdf_path = \"path_to_your_pdf_file.pdf\"\n",
    "    query = \"Your question here\"\n",
    "    main(pdf_path, query)\n"
   ]
  },
  {
   "cell_type": "code",
   "execution_count": null,
   "id": "7c0f2017",
   "metadata": {},
   "outputs": [],
   "source": []
  }
 ],
 "metadata": {
  "kernelspec": {
   "display_name": "Python 3 (ipykernel)",
   "language": "python",
   "name": "python3"
  },
  "language_info": {
   "codemirror_mode": {
    "name": "ipython",
    "version": 3
   },
   "file_extension": ".py",
   "mimetype": "text/x-python",
   "name": "python",
   "nbconvert_exporter": "python",
   "pygments_lexer": "ipython3",
   "version": "3.9.7"
  }
 },
 "nbformat": 4,
 "nbformat_minor": 5
}
